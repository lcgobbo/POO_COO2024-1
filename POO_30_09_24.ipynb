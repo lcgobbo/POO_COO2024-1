{
  "nbformat": 4,
  "nbformat_minor": 0,
  "metadata": {
    "colab": {
      "provenance": [],
      "authorship_tag": "ABX9TyMukpxjKH49DVv+3nOKFufO",
      "include_colab_link": true
    },
    "kernelspec": {
      "name": "python3",
      "display_name": "Python 3"
    },
    "language_info": {
      "name": "python"
    }
  },
  "cells": [
    {
      "cell_type": "markdown",
      "metadata": {
        "id": "view-in-github",
        "colab_type": "text"
      },
      "source": [
        "<a href=\"https://colab.research.google.com/github/lcgobbo/POO_COO2024-1/blob/main/POO_30_09_24.ipynb\" target=\"_parent\"><img src=\"https://colab.research.google.com/assets/colab-badge.svg\" alt=\"Open In Colab\"/></a>"
      ]
    },
    {
      "cell_type": "code",
      "execution_count": 1,
      "metadata": {
        "colab": {
          "base_uri": "https://localhost:8080/"
        },
        "id": "Sn1kzMASWOTR",
        "outputId": "bbb1dc2c-641b-4be4-fd12-288a0878f59e"
      },
      "outputs": [
        {
          "output_type": "stream",
          "name": "stdout",
          "text": [
            "Digite a temperatura em Fahrenheit: 70\n",
            "A temperatura em Celsius é 21.11°C\n"
          ]
        }
      ],
      "source": [
        "fahrenheit = float(input(\"Digite a temperatura em Fahrenheit: \"))\n",
        "celsius = (5/9) * (fahrenheit - 32)\n",
        "print(f\"A temperatura em Celsius é {celsius:.2f}°C\")\n",
        "\n"
      ]
    },
    {
      "cell_type": "code",
      "source": [
        "polegadas = float(input(\"Digite a medida em polegadas: \"))\n",
        "milímetros = 1\"= 25,4mm\n",
        "print(f\"A medida em milímetros é {milímetros:2f}\")"
      ],
      "metadata": {
        "colab": {
          "base_uri": "https://localhost:8080/",
          "height": 106
        },
        "id": "rKxc2FpQca4Y",
        "outputId": "ef6ec319-ace9-458c-ff18-c76334c9263d"
      },
      "execution_count": 3,
      "outputs": [
        {
          "output_type": "error",
          "ename": "SyntaxError",
          "evalue": "unterminated string literal (detected at line 2) (<ipython-input-3-bf3d380caec3>, line 2)",
          "traceback": [
            "\u001b[0;36m  File \u001b[0;32m\"<ipython-input-3-bf3d380caec3>\"\u001b[0;36m, line \u001b[0;32m2\u001b[0m\n\u001b[0;31m    milímetros = 1\"= 25,4mm\u001b[0m\n\u001b[0m                  ^\u001b[0m\n\u001b[0;31mSyntaxError\u001b[0m\u001b[0;31m:\u001b[0m unterminated string literal (detected at line 2)\n"
          ]
        }
      ]
    }
  ]
}