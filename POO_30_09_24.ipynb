{
  "nbformat": 4,
  "nbformat_minor": 0,
  "metadata": {
    "colab": {
      "provenance": [],
      "authorship_tag": "ABX9TyMK0VaendzwohgDPvyhGBi8",
      "include_colab_link": true
    },
    "kernelspec": {
      "name": "python3",
      "display_name": "Python 3"
    },
    "language_info": {
      "name": "python"
    }
  },
  "cells": [
    {
      "cell_type": "markdown",
      "metadata": {
        "id": "view-in-github",
        "colab_type": "text"
      },
      "source": [
        "<a href=\"https://colab.research.google.com/github/lcgobbo/POO_COO2024-1/blob/main/POO_30_09_24.ipynb\" target=\"_parent\"><img src=\"https://colab.research.google.com/assets/colab-badge.svg\" alt=\"Open In Colab\"/></a>"
      ]
    },
    {
      "cell_type": "markdown",
      "source": [
        "Ex.1) Converter F para C\n",
        "C = (5/9)(F-32)\n",
        "OBS:\n",
        "Entrada: F\n",
        "Processamento: C = (5/9)(F-32)\n",
        "Saída : C"
      ],
      "metadata": {
        "id": "yvu6Fhp4eudu"
      }
    },
    {
      "cell_type": "code",
      "source": [
        "F = float(input(\"Digite valor em Graus Farenheit: \"))\n",
        "C = (5/9)*(F-32)\n",
        "print(\"Graus Celcius: \", C)\n"
      ],
      "metadata": {
        "colab": {
          "base_uri": "https://localhost:8080/"
        },
        "id": "ZxkdWfyoetu_",
        "outputId": "98783c31-bf2b-4dfe-a1ff-0caa265a793d"
      },
      "execution_count": 4,
      "outputs": [
        {
          "output_type": "stream",
          "name": "stdout",
          "text": [
            "Digite valor em Graus Farenheit: 32\n",
            "Graus Celcius:  0.0\n"
          ]
        }
      ]
    },
    {
      "cell_type": "markdown",
      "source": [
        "#Resolução do mesmo exercício usando a função (método) printf"
      ],
      "metadata": {
        "id": "xpSJzS_-fmgH"
      }
    },
    {
      "cell_type": "code",
      "source": [
        "F = float(input(\"Digite valor em Graus Farenheit: \"))\n",
        "C = (5/9)*(F-32)\n",
        "print(f\"O valor de {F} °F corresponde ao valor de {C} °C: \")"
      ],
      "metadata": {
        "colab": {
          "base_uri": "https://localhost:8080/"
        },
        "id": "a-Szfv73fvjD",
        "outputId": "ce9431ac-0bdc-4327-9bb7-27329871c73e"
      },
      "execution_count": 6,
      "outputs": [
        {
          "output_type": "stream",
          "name": "stdout",
          "text": [
            "Digite valor em Graus Farenheit: 32\n",
            "O valor de 32.0 °F corresponde ao valor de 0.0 °C: \n"
          ]
        }
      ]
    },
    {
      "cell_type": "markdown",
      "source": [
        "Ex.2) Converter Polegadas para mm\n",
        "Entrada: P\n",
        "Processamento: mm = P*25.4\n",
        "Saída: mm"
      ],
      "metadata": {
        "id": "jQy5437UjoVs"
      }
    },
    {
      "cell_type": "code",
      "source": [
        "p = float(input(\"Digite valor em Polegadas: \"))\n",
        "mm = p*25.4\n",
        "print(f\"O valor de {p} pol corresponde ao valor de {mm} mm: \")\n"
      ],
      "metadata": {
        "colab": {
          "base_uri": "https://localhost:8080/"
        },
        "id": "47FCrEqHj-3Y",
        "outputId": "4a3f3881-f0c6-47f4-fc7a-3eb262b4b29c"
      },
      "execution_count": 9,
      "outputs": [
        {
          "output_type": "stream",
          "name": "stdout",
          "text": [
            "Digite valor em Polegadas: 30\n",
            "O valor de 30.0 pol corresponde ao valor de 762.0 mm: \n"
          ]
        }
      ]
    },
    {
      "cell_type": "markdown",
      "source": [
        "Ex.3) Converter Milímetros para p\n",
        "Entrada: mm\n",
        "Processamento: p = mm/25.4\n",
        "Saída: p"
      ],
      "metadata": {
        "id": "rZMd7OyZlo5O"
      }
    },
    {
      "cell_type": "code",
      "source": [
        "mm = float(input(\"Digite valor em Milímetros: \"))\n",
        "p = mm/25.4\n",
        "print(f\"O valor de {mm} mm corresponde ao valor de {p} pol: \")"
      ],
      "metadata": {
        "colab": {
          "base_uri": "https://localhost:8080/"
        },
        "id": "_kiFU-K0l8Ag",
        "outputId": "bea72e7a-9c70-4d79-e8f5-ef08b3aadee5"
      },
      "execution_count": 10,
      "outputs": [
        {
          "output_type": "stream",
          "name": "stdout",
          "text": [
            "Digite valor em Milímetros: 762\n",
            "O valor de 762.0 mm corresponde ao valor de 30.0 pol: \n"
          ]
        }
      ]
    },
    {
      "cell_type": "markdown",
      "source": [
        "#PROGRAMA VERIFICADOR DE IDADE PARA VOTAÇÃO\n"
      ],
      "metadata": {
        "id": "h22WY9a8pEAY"
      }
    },
    {
      "cell_type": "markdown",
      "source": [
        "Ex.4) Dizer se a pessoa é apta ou não à votar.\n",
        "Entrada: Idade\n",
        "Processamento: 16 <= idade < 70\n",
        "Saída: Pode votar ou não."
      ],
      "metadata": {
        "id": "Z-4LXA7MmPO6"
      }
    },
    {
      "cell_type": "code",
      "source": [
        "idade = int(input(\"Digite sua idade: \"))\n",
        "if 16 <= idade < 70:\n",
        "  print(\"Você pode votar!\")\n",
        "else:\n",
        "  print(\"Sinto muito, infelizmente você não pode votar.\")"
      ],
      "metadata": {
        "colab": {
          "base_uri": "https://localhost:8080/"
        },
        "id": "JwazkIbtmaeE",
        "outputId": "5a5b0fa8-2220-40e6-8877-8f52c03c61ce"
      },
      "execution_count": 16,
      "outputs": [
        {
          "output_type": "stream",
          "name": "stdout",
          "text": [
            "Digite sua idade: 14\n",
            "Sinto muito, infelizmente você não pode votar.\n"
          ]
        }
      ]
    }
  ]
}