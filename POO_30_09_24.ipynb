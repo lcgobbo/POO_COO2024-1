{
  "nbformat": 4,
  "nbformat_minor": 0,
  "metadata": {
    "colab": {
      "provenance": [],
      "authorship_tag": "ABX9TyMlST8IlJy2vXnvIWQkARzx",
      "include_colab_link": true
    },
    "kernelspec": {
      "name": "python3",
      "display_name": "Python 3"
    },
    "language_info": {
      "name": "python"
    }
  },
  "cells": [
    {
      "cell_type": "markdown",
      "metadata": {
        "id": "view-in-github",
        "colab_type": "text"
      },
      "source": [
        "<a href=\"https://colab.research.google.com/github/lcgobbo/POO_COO2024-1/blob/main/POO_30_09_24.ipynb\" target=\"_parent\"><img src=\"https://colab.research.google.com/assets/colab-badge.svg\" alt=\"Open In Colab\"/></a>"
      ]
    },
    {
      "cell_type": "markdown",
      "source": [
        "#EXERCÍCIOS PARA PRATICAR:"
      ],
      "metadata": {
        "id": "BsvxjnfNxlCP"
      }
    },
    {
      "cell_type": "markdown",
      "source": [
        "Ex.1) Converter F para C\n",
        "C = (5/9)(F-32)\n",
        "OBS:\n",
        "Entrada: F\n",
        "Processamento: C = (5/9)(F-32)\n",
        "Saída : C"
      ],
      "metadata": {
        "id": "yvu6Fhp4eudu"
      }
    },
    {
      "cell_type": "code",
      "source": [
        "F = float(input(\"Digite valor em Graus Farenheit: \"))\n",
        "C = (5/9)*(F-32)\n",
        "print(\"Graus Celcius: \", C)\n"
      ],
      "metadata": {
        "colab": {
          "base_uri": "https://localhost:8080/"
        },
        "id": "ZxkdWfyoetu_",
        "outputId": "98783c31-bf2b-4dfe-a1ff-0caa265a793d"
      },
      "execution_count": 4,
      "outputs": [
        {
          "output_type": "stream",
          "name": "stdout",
          "text": [
            "Digite valor em Graus Farenheit: 32\n",
            "Graus Celcius:  0.0\n"
          ]
        }
      ]
    },
    {
      "cell_type": "markdown",
      "source": [
        "#Resolução do mesmo exercício usando a função (método) printf"
      ],
      "metadata": {
        "id": "xpSJzS_-fmgH"
      }
    },
    {
      "cell_type": "code",
      "source": [
        "F = float(input(\"Digite valor em Graus Farenheit: \"))\n",
        "C = (5/9)*(F-32)\n",
        "print(f\"O valor de {F} °F corresponde ao valor de {C} °C: \")"
      ],
      "metadata": {
        "colab": {
          "base_uri": "https://localhost:8080/"
        },
        "id": "a-Szfv73fvjD",
        "outputId": "ce9431ac-0bdc-4327-9bb7-27329871c73e"
      },
      "execution_count": 6,
      "outputs": [
        {
          "output_type": "stream",
          "name": "stdout",
          "text": [
            "Digite valor em Graus Farenheit: 32\n",
            "O valor de 32.0 °F corresponde ao valor de 0.0 °C: \n"
          ]
        }
      ]
    },
    {
      "cell_type": "markdown",
      "source": [
        "Ex.2) Converter Polegadas para mm\n",
        "Entrada: P\n",
        "Processamento: mm = P*25.4\n",
        "Saída: mm"
      ],
      "metadata": {
        "id": "jQy5437UjoVs"
      }
    },
    {
      "cell_type": "code",
      "source": [
        "p = float(input(\"Digite valor em Polegadas: \"))\n",
        "mm = p*25.4\n",
        "print(f\"O valor de {p} pol corresponde ao valor de {mm} mm: \")\n"
      ],
      "metadata": {
        "colab": {
          "base_uri": "https://localhost:8080/"
        },
        "id": "47FCrEqHj-3Y",
        "outputId": "4a3f3881-f0c6-47f4-fc7a-3eb262b4b29c"
      },
      "execution_count": 9,
      "outputs": [
        {
          "output_type": "stream",
          "name": "stdout",
          "text": [
            "Digite valor em Polegadas: 30\n",
            "O valor de 30.0 pol corresponde ao valor de 762.0 mm: \n"
          ]
        }
      ]
    },
    {
      "cell_type": "markdown",
      "source": [
        "Ex.3) Converter Milímetros para p\n",
        "Entrada: mm\n",
        "Processamento: p = mm/25.4\n",
        "Saída: p"
      ],
      "metadata": {
        "id": "rZMd7OyZlo5O"
      }
    },
    {
      "cell_type": "code",
      "source": [
        "mm = float(input(\"Digite valor em Milímetros: \"))\n",
        "p = mm/25.4\n",
        "print(f\"O valor de {mm} mm corresponde ao valor de {p} pol: \")"
      ],
      "metadata": {
        "colab": {
          "base_uri": "https://localhost:8080/"
        },
        "id": "_kiFU-K0l8Ag",
        "outputId": "bea72e7a-9c70-4d79-e8f5-ef08b3aadee5"
      },
      "execution_count": 10,
      "outputs": [
        {
          "output_type": "stream",
          "name": "stdout",
          "text": [
            "Digite valor em Milímetros: 762\n",
            "O valor de 762.0 mm corresponde ao valor de 30.0 pol: \n"
          ]
        }
      ]
    },
    {
      "cell_type": "markdown",
      "source": [
        "#PROGRAMA VERIFICADOR DE IDADE PARA VOTAÇÃO\n"
      ],
      "metadata": {
        "id": "h22WY9a8pEAY"
      }
    },
    {
      "cell_type": "markdown",
      "source": [
        "Ex.4) Dizer se a pessoa é apta ou não à votar.\n",
        "Entrada: Idade\n",
        "Processamento: 16 <= idade < 70\n",
        "Saída: Pode votar ou não."
      ],
      "metadata": {
        "id": "Z-4LXA7MmPO6"
      }
    },
    {
      "cell_type": "code",
      "source": [
        "idade = int(input(\"Digite sua idade: \"))\n",
        "if 16 <= idade < 70:\n",
        "  print(\"Você pode votar!\")\n",
        "else:\n",
        "  print(\"Sinto muito, infelizmente você não pode votar.\")"
      ],
      "metadata": {
        "colab": {
          "base_uri": "https://localhost:8080/"
        },
        "id": "JwazkIbtmaeE",
        "outputId": "5a5b0fa8-2220-40e6-8877-8f52c03c61ce"
      },
      "execution_count": 16,
      "outputs": [
        {
          "output_type": "stream",
          "name": "stdout",
          "text": [
            "Digite sua idade: 14\n",
            "Sinto muito, infelizmente você não pode votar.\n"
          ]
        }
      ]
    },
    {
      "cell_type": "markdown",
      "source": [
        "Ex.5) Calcular e exibir o volume de uma esfera.\n",
        "Entrada: raio\n",
        "Processamento: 4.p.raio.raio.raio/3\n",
        "Saída: volume"
      ],
      "metadata": {
        "id": "Ut5ihsDut1LY"
      }
    },
    {
      "cell_type": "code",
      "source": [
        "raio = float(input(\"Digite o valor do raio (r) da esfera: \"))\n",
        "p = 3.14\n",
        "volume = 4*p*raio*raio*raio/3\n",
        "print(f\"O valor do volume da esfera é {volume}\")\n"
      ],
      "metadata": {
        "colab": {
          "base_uri": "https://localhost:8080/"
        },
        "id": "mL7-DUUHslxv",
        "outputId": "f86735b7-7d20-4402-a49f-129e3fc23fb3"
      },
      "execution_count": 20,
      "outputs": [
        {
          "output_type": "stream",
          "name": "stdout",
          "text": [
            "Digite o valor do raio (r) da esfera: 5\n",
            "O valor do volume da esfera é 523.3333333333334\n"
          ]
        }
      ]
    },
    {
      "cell_type": "markdown",
      "source": [
        "Ex.6) Converter graus para radianos.\n",
        "Entrada: graus\n",
        "Processamento: graus*3.14/180\n",
        "Saída: radianos"
      ],
      "metadata": {
        "id": "LVYeFRyNwLo_"
      }
    },
    {
      "cell_type": "code",
      "source": [
        "import math\n",
        "graus = float(input(\"Digite o raio da esfera em unidades de comprimento: \"))\n",
        "volume = (4/3) * math.pi * (raio ** 3)\n",
        "print(f\"O volume da esfera com raio {raio} é {volume:.2f} unidades cúbicas.\")"
      ],
      "metadata": {
        "colab": {
          "base_uri": "https://localhost:8080/"
        },
        "id": "QhhTVKBdwCyg",
        "outputId": "6c4733da-da18-405f-bb3a-4ad13ce7ceb9"
      },
      "execution_count": 31,
      "outputs": [
        {
          "output_type": "stream",
          "name": "stdout",
          "text": [
            "Digite o raio da esfera em unidades de comprimento: 10\n",
            "O volume da esfera com raio 5.0 é 523.60 unidades cúbicas.\n"
          ]
        }
      ]
    },
    {
      "cell_type": "markdown",
      "source": [
        "Ex.7) Converter radianos para graus.\n",
        "Entrada: radianos\n",
        "Processamento: radianos*180/3.14\n",
        "Saída: graus"
      ],
      "metadata": {
        "id": "A0TWzPQPvslt"
      }
    },
    {
      "cell_type": "code",
      "source": [
        "radianos = int(input(\"Digite o valor do ângulo em radianos: \"))\n",
        "graus = radianos*180/3.14\n",
        "print(f\"O valor de {radianos}π rad em graus é: {graus}\")"
      ],
      "metadata": {
        "colab": {
          "base_uri": "https://localhost:8080/"
        },
        "id": "kGvsKoqyuPb2",
        "outputId": "243be530-dd59-4a4c-ce62-f1f9f377e7d3"
      },
      "execution_count": 27,
      "outputs": [
        {
          "output_type": "stream",
          "name": "stdout",
          "text": [
            "Digite o valor do ângulo em radianos: 30\n",
            "O valor de 30π rad em graus é: 1719.7452229299363\n"
          ]
        }
      ]
    },
    {
      "cell_type": "markdown",
      "source": [
        "Ex.8) Converter radianos para grados.\n",
        "Entrada: radianos\n",
        "Processamento: radianos*200/3.14\n",
        "Saída: grados"
      ],
      "metadata": {
        "id": "gcMTvMioxWjN"
      }
    },
    {
      "cell_type": "code",
      "source": [
        "radianos = int(input(\"Digite o valor do ângulo em radianos: \"))\n",
        "grados = radianos*200/3.14\n",
        "print(f\"O valor de {radianos}πrad em grados é: {grados}gon \")"
      ],
      "metadata": {
        "colab": {
          "base_uri": "https://localhost:8080/"
        },
        "id": "NPA5N6_gwavQ",
        "outputId": "59c39c93-c8db-486d-cd67-3e5bad78011b"
      },
      "execution_count": 30,
      "outputs": [
        {
          "output_type": "stream",
          "name": "stdout",
          "text": [
            "Digite o valor do ângulo em radianos: 1\n",
            "O valor de 1πrad em grados é: 63.69426751592356gon \n"
          ]
        }
      ]
    }
  ]
}